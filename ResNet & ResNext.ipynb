{
  "nbformat": 4,
  "nbformat_minor": 0,
  "metadata": {
    "colab": {
      "provenance": [],
      "gpuType": "T4"
    },
    "kernelspec": {
      "name": "python3",
      "display_name": "Python 3"
    },
    "language_info": {
      "name": "python"
    },
    "accelerator": "GPU"
  },
  "cells": [
    {
      "cell_type": "code",
      "execution_count": 1,
      "metadata": {
        "colab": {
          "base_uri": "https://localhost:8080/"
        },
        "id": "-FyMyD2i4VSk",
        "outputId": "5ba241a3-efe0-47df-9830-fc9993af180e"
      },
      "outputs": [
        {
          "output_type": "stream",
          "name": "stdout",
          "text": [
            "Requirement already satisfied: torch in /usr/local/lib/python3.10/dist-packages (2.3.0+cu121)\n",
            "Requirement already satisfied: ptflops in /usr/local/lib/python3.10/dist-packages (0.7.3)\n",
            "Requirement already satisfied: filelock in /usr/local/lib/python3.10/dist-packages (from torch) (3.14.0)\n",
            "Requirement already satisfied: typing-extensions>=4.8.0 in /usr/local/lib/python3.10/dist-packages (from torch) (4.11.0)\n",
            "Requirement already satisfied: sympy in /usr/local/lib/python3.10/dist-packages (from torch) (1.12)\n",
            "Requirement already satisfied: networkx in /usr/local/lib/python3.10/dist-packages (from torch) (3.3)\n",
            "Requirement already satisfied: jinja2 in /usr/local/lib/python3.10/dist-packages (from torch) (3.1.4)\n",
            "Requirement already satisfied: fsspec in /usr/local/lib/python3.10/dist-packages (from torch) (2023.6.0)\n",
            "Requirement already satisfied: nvidia-cuda-nvrtc-cu12==12.1.105 in /usr/local/lib/python3.10/dist-packages (from torch) (12.1.105)\n",
            "Requirement already satisfied: nvidia-cuda-runtime-cu12==12.1.105 in /usr/local/lib/python3.10/dist-packages (from torch) (12.1.105)\n",
            "Requirement already satisfied: nvidia-cuda-cupti-cu12==12.1.105 in /usr/local/lib/python3.10/dist-packages (from torch) (12.1.105)\n",
            "Requirement already satisfied: nvidia-cudnn-cu12==8.9.2.26 in /usr/local/lib/python3.10/dist-packages (from torch) (8.9.2.26)\n",
            "Requirement already satisfied: nvidia-cublas-cu12==12.1.3.1 in /usr/local/lib/python3.10/dist-packages (from torch) (12.1.3.1)\n",
            "Requirement already satisfied: nvidia-cufft-cu12==11.0.2.54 in /usr/local/lib/python3.10/dist-packages (from torch) (11.0.2.54)\n",
            "Requirement already satisfied: nvidia-curand-cu12==10.3.2.106 in /usr/local/lib/python3.10/dist-packages (from torch) (10.3.2.106)\n",
            "Requirement already satisfied: nvidia-cusolver-cu12==11.4.5.107 in /usr/local/lib/python3.10/dist-packages (from torch) (11.4.5.107)\n",
            "Requirement already satisfied: nvidia-cusparse-cu12==12.1.0.106 in /usr/local/lib/python3.10/dist-packages (from torch) (12.1.0.106)\n",
            "Requirement already satisfied: nvidia-nccl-cu12==2.20.5 in /usr/local/lib/python3.10/dist-packages (from torch) (2.20.5)\n",
            "Requirement already satisfied: nvidia-nvtx-cu12==12.1.105 in /usr/local/lib/python3.10/dist-packages (from torch) (12.1.105)\n",
            "Requirement already satisfied: triton==2.3.0 in /usr/local/lib/python3.10/dist-packages (from torch) (2.3.0)\n",
            "Requirement already satisfied: nvidia-nvjitlink-cu12 in /usr/local/lib/python3.10/dist-packages (from nvidia-cusolver-cu12==11.4.5.107->torch) (12.5.40)\n",
            "Requirement already satisfied: MarkupSafe>=2.0 in /usr/local/lib/python3.10/dist-packages (from jinja2->torch) (2.1.5)\n",
            "Requirement already satisfied: mpmath>=0.19 in /usr/local/lib/python3.10/dist-packages (from sympy->torch) (1.3.0)\n"
          ]
        }
      ],
      "source": [
        "!pip install torch ptflops"
      ]
    },
    {
      "cell_type": "code",
      "source": [
        "import torch\n",
        "import torch.nn as nn\n",
        "import torch.nn.functional as F\n",
        "import torch.optim as optim\n",
        "\n",
        "from torch.utils.data import DataLoader\n",
        "import torchvision.transforms as transforms\n",
        "import torchvision.datasets as dsets\n",
        "from torchvision.transforms import ToTensor\n",
        "\n",
        "from ptflops import get_model_complexity_info"
      ],
      "metadata": {
        "id": "kJU0-7JP4aOR"
      },
      "execution_count": 2,
      "outputs": []
    },
    {
      "cell_type": "code",
      "source": [
        "#hyperparameters\n",
        "learning_rate=0.001\n",
        "epochs = 10\n",
        "batch_size = 64\n",
        "\n",
        "criterion = torch.nn.CrossEntropyLoss()\n",
        "\n",
        "train_dataset = dsets.FashionMNIST(root='MNIST_data/', train=True, download=True, transform=ToTensor())\n",
        "test_dataset = dsets.FashionMNIST(root='MNIST_data/', train=False, download=True, transform=ToTensor())\n",
        "\n",
        "train_loader = DataLoader(train_dataset, batch_size=batch_size, shuffle=True, num_workers=2)\n",
        "test_loader = DataLoader(test_dataset, batch_size=batch_size, shuffle=True, num_workers=2)\n"
      ],
      "metadata": {
        "id": "hhpzRfqA4eGF"
      },
      "execution_count": 3,
      "outputs": []
    },
    {
      "cell_type": "code",
      "source": [
        "# Residual Block 구현\n",
        "class BottleNeck(nn.Module):\n",
        "    expansion = 4\n",
        "    def __init__(self, in_channels, out_channels, stride=1):\n",
        "        super(BottleNeck, self).__init__()\n",
        "        self.relu = F.relu\n",
        "        self.conv1 = nn.Conv2d(in_channels, out_channels, kernel_size=1, stride=stride, bias=False)\n",
        "        self.bn1 = nn.BatchNorm2d(out_channels)\n",
        "        self.conv2 = nn.Conv2d(out_channels, out_channels, kernel_size=3, stride=1, padding=1, bias=False)\n",
        "        self.bn2 = nn.BatchNorm2d(out_channels)\n",
        "        self.conv3 = nn.Conv2d(out_channels, out_channels*self.expansion, kernel_size=1, stride=1, bias=False)\n",
        "        self.bn3 = nn.BatchNorm2d(out_channels*self.expansion)\n",
        "        self.identity = nn.Sequential()\n",
        "        if stride != 1 or in_channels != out_channels*self.expansion:\n",
        "            self.identity = nn.Sequential(\n",
        "                nn.Conv2d(in_channels, out_channels*self.expansion, kernel_size=1, stride=stride, bias=False),\n",
        "                nn.BatchNorm2d(out_channels*self.expansion)\n",
        "            )\n",
        "\n",
        "    def forward(self, x):\n",
        "        out = self.relu(self.bn1(self.conv1(x)))\n",
        "        out = self.relu(self.bn2(self.conv2(out)))\n",
        "        out = self.bn3(self.conv3(out))\n",
        "        out += self.identity(x)\n",
        "        out = self.relu(out)\n",
        "        return out\n",
        "\n",
        "class ResNet(nn.Module):\n",
        "    def __init__(self, block, num_blocks, num_classes):\n",
        "        super(ResNet, self).__init__()\n",
        "        self.in_channels = 64\n",
        "        self.conv = nn.Conv2d(1, self.in_channels, kernel_size=7, stride=2, padding=3, bias=False) #1. 7X7 conv layer\n",
        "        self.bn = nn.BatchNorm2d(self.in_channels)\n",
        "        self.relu = F.relu\n",
        "        self.maxpool = nn.MaxPool2d(kernel_size=3, stride=2, padding=1) #2. 3X3 maxpooling\n",
        "        self.layer1 = self.make_layer(block, 64, num_blocks[0], stride=1)\n",
        "        self.layer2 = self.make_layer(block, 128, num_blocks[1], stride=2)\n",
        "        self.layer3 = self.make_layer(block, 256, num_blocks[2], stride=2)\n",
        "        self.layer4 = self.make_layer(block, 512, num_blocks[3], stride=2)\n",
        "        self.avgpool = nn.AdaptiveAvgPool2d((1, 1))\n",
        "        self.fc = nn.Linear(512  * block.expansion, num_classes)\n",
        "\n",
        "    def make_layer(self, block, out_channels, num_blocks, stride):\n",
        "        layers = []\n",
        "        strides = [stride] + [1] * (num_blocks - 1)\n",
        "        for stride in strides:\n",
        "            layers.append(block(self.in_channels, out_channels, stride))\n",
        "            self.in_channels = out_channels * block.expansion\n",
        "        return nn.Sequential(*layers)\n",
        "\n",
        "    def forward(self, x):\n",
        "        out = self.relu(self.bn(self.conv(x)))\n",
        "        out = self.maxpool(out)\n",
        "        out = self.layer1(out)\n",
        "        out = self.layer2(out)\n",
        "        out = self.layer3(out)\n",
        "        out = self.layer4(out)\n",
        "        out = self.avgpool(out)\n",
        "        out = out.view(out.size(0), -1)\n",
        "        out = self.fc(out)\n",
        "        return out"
      ],
      "metadata": {
        "id": "ZgjUxXuo4gsB"
      },
      "execution_count": 4,
      "outputs": []
    },
    {
      "cell_type": "code",
      "source": [
        "class BottleNeck2(nn.Module):\n",
        "    expansion = 2\n",
        "    def __init__(self, in_channels, out_channels, cardinality, stride=1):\n",
        "        super(BottleNeck2, self).__init__()\n",
        "        self.relu = F.relu\n",
        "        self.conv1 = nn.Conv2d(in_channels, out_channels, kernel_size=1, bias=False)\n",
        "        self.bn1 = nn.BatchNorm2d(out_channels)\n",
        "        self.conv2 = nn.Conv2d(out_channels, out_channels, kernel_size=3, stride=stride, padding=1, groups = cardinality, bias=False)\n",
        "        self.bn2 = nn.BatchNorm2d(out_channels)\n",
        "        self.conv3 = nn.Conv2d(out_channels, out_channels*self.expansion, kernel_size=1, bias=False)\n",
        "        self.bn3 = nn.BatchNorm2d(out_channels*self.expansion)\n",
        "        self.identity = nn.Sequential()\n",
        "        if stride != 1 or in_channels != out_channels*self.expansion:\n",
        "            self.identity = nn.Sequential(\n",
        "                nn.Conv2d(in_channels, out_channels*self.expansion, kernel_size=1, stride=stride, bias=False),\n",
        "                nn.BatchNorm2d(out_channels*self.expansion)\n",
        "            )\n",
        "    def forward(self, x):\n",
        "        out = self.relu(self.bn1(self.conv1(x)))\n",
        "        out = self.relu(self.bn2(self.conv2(out)))\n",
        "        out = self.bn3(self.conv3(out))\n",
        "        out += self.identity(x)\n",
        "        out = self.relu(out)\n",
        "        return out\n",
        "class ResNeXt(nn.Module):\n",
        "    def __init__(self, block, num_blocks, cardinality = 32, width = 4, num_classes=10):\n",
        "        super(ResNeXt, self).__init__()\n",
        "        self.in_channels = 64\n",
        "        self.group_conv_width = cardinality * width\n",
        "        self.relu = F.relu\n",
        "\n",
        "        self.conv = nn.Conv2d(1, self.in_channels, kernel_size=7, stride=2, padding = 3)\n",
        "        self.bn = nn.BatchNorm2d(self.in_channels)\n",
        "        self.maxpool = nn.MaxPool2d(kernel_size=3, stride=2, padding=1)\n",
        "\n",
        "        self.layer1 = self.make_layer(block, cardinality, num_blocks[0], stride=1)\n",
        "        self.layer2 = self.make_layer(block, cardinality, num_blocks[1], stride=2)\n",
        "        self.layer3 = self.make_layer(block, cardinality, num_blocks[2], stride=2)\n",
        "        self.layer4 = self.make_layer(block, cardinality, num_blocks[3], stride=2)\n",
        "        self.avgpool = nn.AdaptiveAvgPool2d((1,1))\n",
        "        self.linear = nn.Linear(self.group_conv_width, num_classes)\n",
        "\n",
        "    def make_layer(self, block, cardinality, num_blocks, stride):\n",
        "        layers = []\n",
        "        strides = [stride] + [1] * (num_blocks-1)\n",
        "        for i in range(num_blocks):\n",
        "            layers.append(block(self.in_channels, self.group_conv_width, cardinality, strides[i]))\n",
        "            self.in_channels = block.expansion * self.group_conv_width\n",
        "        self.group_conv_width *= block.expansion\n",
        "        return nn.Sequential(*layers)\n",
        "\n",
        "    def forward(self, x):\n",
        "        out = self.relu(self.bn(self.conv(x)))\n",
        "        out = self.maxpool(out)\n",
        "        out = self.layer1(out)\n",
        "        out = self.layer2(out)\n",
        "        out = self.layer3(out)\n",
        "        out = self.layer4(out)\n",
        "        out = self.avgpool(out)\n",
        "        out = out.view(out.size(0), -1)\n",
        "        out = self.linear(out)\n",
        "        return out"
      ],
      "metadata": {
        "id": "UsTL2I1S4iCI"
      },
      "execution_count": 5,
      "outputs": []
    },
    {
      "cell_type": "code",
      "source": [
        "device = \"cuda\" if torch.cuda.is_available() else \"cpu\""
      ],
      "metadata": {
        "id": "hmR6-fsh4kJv"
      },
      "execution_count": 6,
      "outputs": []
    },
    {
      "cell_type": "code",
      "source": [
        "def Train(model, trainloader):\n",
        "    for epoch in range(epochs):\n",
        "      avg_loss = 0\n",
        "      for data, target in train_loader:\n",
        "          data = data.cuda()\n",
        "          target = target.cuda()\n",
        "          pred = model(data)\n",
        "          optimizer.zero_grad()\n",
        "          loss = criterion(pred, target)\n",
        "          loss.backward()\n",
        "          optimizer.step()\n",
        "          avg_loss += loss / len(train_loader)\n",
        "      print('[Epoch: {:>4}] loss = {:>.9}'.format(epoch + 1, avg_loss))"
      ],
      "metadata": {
        "id": "Thk3ooZc4mb6"
      },
      "execution_count": 7,
      "outputs": []
    },
    {
      "cell_type": "code",
      "source": [
        "def Test(model, testloader):\n",
        "    model.eval()\n",
        "    top_1 = 0\n",
        "    top_5 = 0\n",
        "    total = 0\n",
        "    with torch.no_grad():\n",
        "        for data, target in testloader:\n",
        "            data = data.cuda()\n",
        "            target = target.cuda()\n",
        "            test = model(data)\n",
        "            _, predicted = torch.max(test, 1)\n",
        "            total += target.size(0)\n",
        "            top_1 += (predicted == target).sum().item()\n",
        "            _, predicted_top5 = torch.topk(test, 5, dim=1)\n",
        "            top_5 += torch.any(predicted_top5 == target.view(-1, 1), dim=1).sum().item()\n",
        "\n",
        "    top_1 = 100 * top_1 / total\n",
        "    top_5 = 100 * top_5 / total\n",
        "    return top_1, top_5"
      ],
      "metadata": {
        "id": "MmbjSsJ14n-I"
      },
      "execution_count": 8,
      "outputs": []
    },
    {
      "cell_type": "code",
      "source": [
        "# ResNet-50\n",
        "modelNet = ResNet(BottleNeck, [3, 4, 6, 3], num_classes=10)\n",
        "optimizer = torch.optim.Adam(modelNet.parameters(), lr=learning_rate)\n",
        "modelNet = modelNet.to(device)\n",
        "Train(modelNet, train_loader)\n",
        "\n",
        "flops, params = get_model_complexity_info(modelNet, (1, 28, 28),print_per_layer_stat=False)\n",
        "print(f\"FLOPs: {flops}\")\n",
        "print(f\"Params: {params}\")\n",
        "\n",
        "top_1, top_5 = Test(modelNet, test_loader)\n",
        "print(\"Accuracy Top-1 : {:.2f}%\".format(top_1))\n",
        "print(\"Accuracy Top-5 : {:.2f}%\".format(top_5))"
      ],
      "metadata": {
        "colab": {
          "base_uri": "https://localhost:8080/"
        },
        "id": "ZNL8UeMqLbQE",
        "outputId": "0c62fef6-11e7-4f56-b499-fa79d9bb9cdd"
      },
      "execution_count": 13,
      "outputs": [
        {
          "output_type": "stream",
          "name": "stdout",
          "text": [
            "[Epoch:    1] loss = 0.617725849\n",
            "[Epoch:    2] loss = 0.518900931\n",
            "[Epoch:    3] loss = 0.346054912\n",
            "[Epoch:    4] loss = 0.429742575\n",
            "[Epoch:    5] loss = 0.517321348\n",
            "[Epoch:    6] loss = 0.555085421\n",
            "[Epoch:    7] loss = 0.39370656\n",
            "[Epoch:    8] loss = 0.328702599\n",
            "[Epoch:    9] loss = 0.2954337\n",
            "[Epoch:   10] loss = 0.277595162\n",
            "FLOPs: 74.14 MMac\n",
            "Params: 23.52 M\n",
            "Accuracy Top-1 : 87.94%\n",
            "Accuracy Top-5 : 99.78%\n"
          ]
        }
      ]
    },
    {
      "cell_type": "code",
      "source": [
        "# ResNet-101\n",
        "modelNet = ResNet(BottleNeck, [3, 4, 23, 3], num_classes=10)\n",
        "optimizer = torch.optim.Adam(modelNet.parameters(), lr=learning_rate)\n",
        "modelNet = modelNet.to(device)\n",
        "Train(modelNet, train_loader)\n",
        "\n",
        "flops, params = get_model_complexity_info(modelNet, (1, 28, 28),print_per_layer_stat=False)\n",
        "print(f\"FLOPs: {flops}\")\n",
        "print(f\"Params: {params}\")\n",
        "\n",
        "top_1, top_5 = Test(modelNet, test_loader)\n",
        "print(\"Accuracy Top-1 : {:.2f}%\".format(top_1))\n",
        "print(\"Accuracy Top-5 : {:.2f}%\".format(top_5))"
      ],
      "metadata": {
        "colab": {
          "base_uri": "https://localhost:8080/"
        },
        "id": "r5CbZezPLbDl",
        "outputId": "137de92b-7117-43e7-fb41-2651875582cf"
      },
      "execution_count": 15,
      "outputs": [
        {
          "output_type": "stream",
          "name": "stdout",
          "text": [
            "[Epoch:    1] loss = 0.639609516\n",
            "[Epoch:    2] loss = 0.425476164\n",
            "[Epoch:    3] loss = 0.418670535\n",
            "[Epoch:    4] loss = 0.365265638\n",
            "[Epoch:    5] loss = 0.335841924\n",
            "[Epoch:    6] loss = 0.339536011\n",
            "[Epoch:    7] loss = 0.32011947\n",
            "[Epoch:    8] loss = 0.311674684\n",
            "[Epoch:    9] loss = 0.255258232\n",
            "[Epoch:   10] loss = 0.238968685\n",
            "FLOPs: 150.1 MMac\n",
            "Params: 42.51 M\n",
            "Accuracy Top-1 : 88.71%\n",
            "Accuracy Top-5 : 99.77%\n"
          ]
        }
      ]
    },
    {
      "cell_type": "code",
      "source": [
        "# ResNeXt-50\n",
        "modelNet = ResNeXt(BottleNeck2, [3, 4, 6, 3])\n",
        "optimizer = torch.optim.Adam(modelNet.parameters(), lr=learning_rate)\n",
        "modelNet = modelNet.to(device)\n",
        "Train(modelNet, train_loader)\n",
        "\n",
        "flops, params = get_model_complexity_info(modelNet, (1, 28, 28),print_per_layer_stat=False)\n",
        "print(f\"FLOPs: {flops}\")\n",
        "print(f\"Params: {params}\")\n",
        "\n",
        "top_1, top_5 = Test(modelNet, test_loader)\n",
        "print(\"Accuracy Top-1 : {:.2f}%\".format(top_1))\n",
        "print(\"Accuracy Top-5 : {:.2f}%\".format(top_5))"
      ],
      "metadata": {
        "colab": {
          "base_uri": "https://localhost:8080/"
        },
        "id": "yAJPbmvy4piA",
        "outputId": "715d01d8-4f8a-4287-9552-d8233f97bd3b"
      },
      "execution_count": 18,
      "outputs": [
        {
          "output_type": "stream",
          "name": "stdout",
          "text": [
            "[Epoch:    1] loss = 0.526321411\n",
            "[Epoch:    2] loss = 0.469188482\n",
            "[Epoch:    3] loss = 0.364597559\n",
            "[Epoch:    4] loss = 0.318433136\n",
            "[Epoch:    5] loss = 0.262901515\n",
            "[Epoch:    6] loss = 0.24865073\n",
            "[Epoch:    7] loss = 0.275252879\n",
            "[Epoch:    8] loss = 0.251390129\n",
            "[Epoch:    9] loss = 0.230906859\n",
            "[Epoch:   10] loss = 0.222429499\n",
            "FLOPs: 81.06 MMac\n",
            "Params: 22.99 M\n",
            "Accuracy Top-1 : 88.02%\n",
            "Accuracy Top-5 : 99.85%\n"
          ]
        }
      ]
    },
    {
      "cell_type": "code",
      "source": [
        "# ResNeXt-101\n",
        "modelNet = ResNeXt(BottleNeck2, [3, 4, 23, 3])\n",
        "optimizer = torch.optim.Adam(modelNet.parameters(), lr=learning_rate)\n",
        "modelNet = modelNet.to(device)\n",
        "Train(modelNet, train_loader)\n",
        "\n",
        "flops, params = get_model_complexity_info(modelNet, (1, 28, 28),print_per_layer_stat=False)\n",
        "print(f\"FLOPs: {flops}\")\n",
        "print(f\"Params: {params}\")\n",
        "\n",
        "top_1, top_5 = Test(modelNet, test_loader)\n",
        "print(\"Accuracy Top-1 : {:.2f}%\".format(top_1))\n",
        "print(\"Accuracy Top-5 : {:.2f}%\".format(top_5))"
      ],
      "metadata": {
        "id": "c0G8r8mf4r2G",
        "colab": {
          "base_uri": "https://localhost:8080/"
        },
        "outputId": "e3fd3fde-be6f-432e-b477-f0ef3df19184"
      },
      "execution_count": 17,
      "outputs": [
        {
          "output_type": "stream",
          "name": "stdout",
          "text": [
            "[Epoch:    1] loss = 0.544577003\n",
            "[Epoch:    2] loss = 0.346579909\n",
            "[Epoch:    3] loss = 0.606976986\n",
            "[Epoch:    4] loss = 0.393099189\n",
            "[Epoch:    5] loss = 0.324199021\n",
            "[Epoch:    6] loss = 0.531326652\n",
            "[Epoch:    7] loss = 0.361041188\n",
            "[Epoch:    8] loss = 0.304178119\n",
            "[Epoch:    9] loss = 0.331313461\n",
            "[Epoch:   10] loss = 0.282746792\n",
            "FLOPs: 157.66 MMac\n",
            "Params: 42.14 M\n",
            "Accuracy Top-1 : 89.61%\n",
            "Accuracy Top-5 : 99.88%\n"
          ]
        }
      ]
    },
    {
      "cell_type": "code",
      "source": [
        "import torch\n",
        "torch.cuda.empty_cache()"
      ],
      "metadata": {
        "id": "JOfUG71O5GJY"
      },
      "execution_count": 11,
      "outputs": []
    }
  ]
}